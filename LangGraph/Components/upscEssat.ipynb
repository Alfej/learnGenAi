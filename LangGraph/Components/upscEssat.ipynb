{
 "cells": [
  {
   "cell_type": "code",
   "execution_count": 122,
   "id": "b2fc04d4",
   "metadata": {},
   "outputs": [
    {
     "data": {
      "text/plain": [
       "True"
      ]
     },
     "execution_count": 122,
     "metadata": {},
     "output_type": "execute_result"
    }
   ],
   "source": [
    "from langchain_groq import ChatGroq\n",
    "from dotenv import load_dotenv\n",
    "from typing import TypedDict, Annotated\n",
    "from langgraph.graph import StateGraph, START, END\n",
    "from langchain_google_genai import ChatGoogleGenerativeAI\n",
    "from pydantic import BaseModel, Field\n",
    "from operator import add\n",
    "\n",
    "load_dotenv()"
   ]
  },
  {
   "cell_type": "code",
   "execution_count": 123,
   "id": "a6dc2a54",
   "metadata": {},
   "outputs": [],
   "source": [
    "# oldmodel = ChatGroq(model_name='llama3-8b-8192',temperature=0.4)\n",
    "oldmodel =  ChatGoogleGenerativeAI(\n",
    "            model=\"gemini-2.5-pro\",\n",
    "            temperature=0,\n",
    "            max_tokens=None,\n",
    "            timeout=None,\n",
    "            max_retries=2\n",
    "        )"
   ]
  },
  {
   "cell_type": "code",
   "execution_count": 124,
   "id": "c44c212f",
   "metadata": {},
   "outputs": [],
   "source": [
    "class evaluationSchema(BaseModel):\n",
    "    feedback: str = Field(\n",
    "        description=\"detailed feedback on the essay.\"\n",
    "    )\n",
    "    score: int = Field(ge=0, le=10, description=\"Score for the essay.\")"
   ]
  },
  {
   "cell_type": "code",
   "execution_count": 125,
   "id": "08ccaf31",
   "metadata": {},
   "outputs": [],
   "source": [
    "model = oldmodel.with_structured_output(evaluationSchema)"
   ]
  },
  {
   "cell_type": "code",
   "execution_count": 126,
   "id": "99816db2",
   "metadata": {},
   "outputs": [],
   "source": [
    "class essayState(TypedDict):\n",
    "    essay: str\n",
    "    feedback: Annotated[list[str], add]\n",
    "    score: Annotated[list[int], add]\n",
    "    final_score: int\n",
    "    Summarized_feedback: str"
   ]
  },
  {
   "cell_type": "code",
   "execution_count": 127,
   "id": "c881f9a4",
   "metadata": {},
   "outputs": [],
   "source": [
    "def clarity_of_thought(state: essayState) -> essayState:\n",
    "    essay = state['essay']\n",
    "    result = model.invoke(f\"Evaluate the clarity of thought in the following essay: {essay}\")\n",
    "    return {'feedback': [result.feedback], 'score': [result.score]}"
   ]
  },
  {
   "cell_type": "code",
   "execution_count": 128,
   "id": "c61cf198",
   "metadata": {},
   "outputs": [],
   "source": [
    "def evaluateAnalysis(state: essayState) -> essayState:\n",
    "    essay = state['essay']\n",
    "    result = model.invoke(f\"Evaluate the depth of analysis in the following essay: {essay}\")\n",
    "    return {'feedback': [result.feedback], 'score': [result.score]}"
   ]
  },
  {
   "cell_type": "code",
   "execution_count": 129,
   "id": "c775e4ca",
   "metadata": {},
   "outputs": [],
   "source": [
    "def evaluateLanguageUse(state: essayState) -> essayState:\n",
    "    essay = state['essay']\n",
    "    result = model.invoke(f\"Evaluate the depth of language use in the following essay: {essay}\")\n",
    "    return {'feedback': [result.feedback], 'score': [result.score]}"
   ]
  },
  {
   "cell_type": "code",
   "execution_count": 130,
   "id": "83b19653",
   "metadata": {},
   "outputs": [],
   "source": [
    "def summarizeFeedback(state: essayState) -> essayState:\n",
    "    feedbacks = state['feedback']\n",
    "    result = oldmodel.invoke(f\"Summarize the feedbacks: {feedbacks}\")\n",
    "    return {'Summarized_feedback': result.content, 'final_score': sum(state['score'])/len(state['score'])}"
   ]
  },
  {
   "cell_type": "code",
   "execution_count": 131,
   "id": "14851cdd",
   "metadata": {},
   "outputs": [
    {
     "data": {
      "image/png": "[encoded data removed]",
      "text/plain": [
       "<langgraph.graph.state.CompiledStateGraph object at 0x00000163227C64B0>"
      ]
     },
     "execution_count": 131,
     "metadata": {},
     "output_type": "execute_result"
    }
   ],
   "source": [
    "graph =StateGraph(essayState)\n",
    "graph.add_node(\"Clarity of Thought Evaluation\",clarity_of_thought)\n",
    "graph.add_node(\"Evaluate the Analysis\", evaluateAnalysis)\n",
    "graph.add_node(\"Evaluate Language Use\", evaluateLanguageUse)\n",
    "graph.add_node(\"Summarize Feedback\", summarizeFeedback)\n",
    "graph.add_edge(START, \"Clarity of Thought Evaluation\")\n",
    "graph.add_edge(START, \"Evaluate the Analysis\")\n",
    "graph.add_edge(START, \"Evaluate Language Use\")\n",
    "graph.add_edge('Clarity of Thought Evaluation', \"Summarize Feedback\")\n",
    "graph.add_edge('Evaluate the Analysis', \"Summarize Feedback\")\n",
    "graph.add_edge('Evaluate Language Use', \"Summarize Feedback\")\n",
    "graph.add_edge(\"Summarize Feedback\", END)\n",
    "\n",
    "workflow = graph.compile()\n",
    "workflow"
   ]
  },
  {
   "cell_type": "code",
   "execution_count": 132,
   "id": "8378d73c",
   "metadata": {},
   "outputs": [],
   "source": [
    "essay = \"\"\"\n",
    "Corruption: A Threat to Progress and Justice\n",
    "\n",
    "Corruption is one of the most pervasive issues affecting societies worldwide. It refers to the misuse of power, position, or resources for personal gain, often at the expense of fairness, justice, and development. While corruption can occur in both public and private sectors, it is most damaging when it infiltrates governance and institutions that are meant to protect citizens and uphold equality.\n",
    "\n",
    "Causes of Corruption\n",
    "\n",
    "Several factors contribute to the rise of corruption. One major cause is lack of transparency and accountability in government systems. When institutions operate without proper monitoring, it becomes easy for individuals to manipulate rules for personal benefits. Poverty and low wages also drive people to seek illegal means to fulfill their needs. Moreover, greed, weak law enforcement, and political interference further fuel corrupt practices. In many countries, a culture of favoritism and nepotism normalizes corruption, making it harder to eradicate.\n",
    "\n",
    "Forms of Corruption\n",
    "\n",
    "Corruption takes many forms. Bribery is the most common, where people pay money or offer gifts to get work done faster or illegally. Embezzlement occurs when officials misuse public funds for personal use. Fraud, extortion, and nepotism are other forms that damage trust in institutions. At a larger scale, political corruption—such as vote buying, manipulation of elections, and misuse of public resources—weakens democracy and threatens social justice.\n",
    "\n",
    "Impact of Corruption\n",
    "\n",
    "The effects of corruption are devastating. Economically, it hampers growth by discouraging foreign investments and misusing public money that should have been spent on development. Socially, corruption widens the gap between the rich and the poor, leaving vulnerable groups deprived of essential services like healthcare, education, and justice. Politically, it undermines democracy and erodes trust between citizens and the government. In short, corruption weakens the very foundation of a nation’s progress.\n",
    "\n",
    "Solutions to Tackle Corruption\n",
    "\n",
    "Fighting corruption requires a multi-pronged approach. Strict laws and punishments must be enforced against those involved in corrupt practices. Equally important is ensuring transparency and accountability in government processes through digital systems, audits, and independent watchdogs. Raising public awareness can empower citizens to resist and report corruption. Moreover, promoting ethical values, honesty, and integrity through education can shape a corruption-free mindset among future generations. International cooperation is also vital since corruption often crosses national boundaries.\n",
    "\n",
    "Conclusion\n",
    "\n",
    "Corruption is not just a financial crime; it is a moral and social disease that hinders growth, justice, and equality. While it may not be possible to eliminate it entirely, strong institutions, honest leadership, and active citizen participation can minimize its influence. Every individual has a role to play in fighting corruption—by refusing to participate in bribery, standing against injustice, and demanding accountability. A corruption-free society may be challenging to achieve, but it is essential for building a just, prosperous, and sustainable future.\n",
    "\"\"\""
   ]
  },
  {
   "cell_type": "code",
   "execution_count": 133,
   "id": "677caf2f",
   "metadata": {},
   "outputs": [
    {
     "data": {
      "text/plain": [
       "{'essay': '\\nCorruption: A Threat to Progress and Justice\\n\\nCorruption is one of the most pervasive issues affecting societies worldwide. It refers to the misuse of power, position, or resources for personal gain, often at the expense of fairness, justice, and development. While corruption can occur in both public and private sectors, it is most damaging when it infiltrates governance and institutions that are meant to protect citizens and uphold equality.\\n\\nCauses of Corruption\\n\\nSeveral factors contribute to the rise of corruption. One major cause is lack of transparency and accountability in government systems. When institutions operate without proper monitoring, it becomes easy for individuals to manipulate rules for personal benefits. Poverty and low wages also drive people to seek illegal means to fulfill their needs. Moreover, greed, weak law enforcement, and political interference further fuel corrupt practices. In many countries, a culture of favoritism and nepotism normalizes corruption, making it harder to eradicate.\\n\\nForms of Corruption\\n\\nCorruption takes many forms. Bribery is the most common, where people pay money or offer gifts to get work done faster or illegally. Embezzlement occurs when officials misuse public funds for personal use. Fraud, extortion, and nepotism are other forms that damage trust in institutions. At a larger scale, political corruption—such as vote buying, manipulation of elections, and misuse of public resources—weakens democracy and threatens social justice.\\n\\nImpact of Corruption\\n\\nThe effects of corruption are devastating. Economically, it hampers growth by discouraging foreign investments and misusing public money that should have been spent on development. Socially, corruption widens the gap between the rich and the poor, leaving vulnerable groups deprived of essential services like healthcare, education, and justice. Politically, it undermines democracy and erodes trust between citizens and the government. In short, corruption weakens the very foundation of a nation’s progress.\\n\\nSolutions to Tackle Corruption\\n\\nFighting corruption requires a multi-pronged approach. Strict laws and punishments must be enforced against those involved in corrupt practices. Equally important is ensuring transparency and accountability in government processes through digital systems, audits, and independent watchdogs. Raising public awareness can empower citizens to resist and report corruption. Moreover, promoting ethical values, honesty, and integrity through education can shape a corruption-free mindset among future generations. International cooperation is also vital since corruption often crosses national boundaries.\\n\\nConclusion\\n\\nCorruption is not just a financial crime; it is a moral and social disease that hinders growth, justice, and equality. While it may not be possible to eliminate it entirely, strong institutions, honest leadership, and active citizen participation can minimize its influence. Every individual has a role to play in fighting corruption—by refusing to participate in bribery, standing against injustice, and demanding accountability. A corruption-free society may be challenging to achieve, but it is essential for building a just, prosperous, and sustainable future.\\n',\n",
       " 'feedback': ['The essay demonstrates excellent clarity of thought. The structure is logical, starting with a clear definition of corruption and systematically progressing through its causes, forms, impact, and potential solutions. Each section is well-defined and contributes to a cohesive argument. The language is straightforward and easy to understand, making the complex topic accessible. The arguments are presented in a linear and coherent manner, allowing the reader to follow the line of reasoning without confusion. Overall, the clarity of thought is a significant strength of this essay.',\n",
       "  'The essay is well-structured, clear, and effectively organized. The language is functional and grammatically correct, making the arguments easy to follow.\\n\\nHowever, the depth of language use is moderate. The vocabulary is appropriate but lacks sophistication and variety. For instance, phrases like \"get work done\" could be replaced with more formal alternatives like \"to expedite services\".\\n\\nSentence structures are often simple and repetitive. To enhance the depth, the author could incorporate more complex and varied sentence patterns. For example, instead of \"Bribery is the most common, where people pay money...\", a more complex sentence could be: \"Among the most common forms is bribery, which involves offering money or gifts to circumvent regulations or expedite processes.\"\\n\\nOverall, the language is clear and effective for a general audience but could be elevated with a richer vocabulary and more complex sentence constructions to achieve greater depth.',\n",
       "  \"The essay provides a well-structured and comprehensive overview of corruption, covering its causes, forms, impact, and potential solutions. The language is clear, and the arguments are easy to follow.\\n\\nHowever, the depth of analysis is limited. The essay remains at a very general and descriptive level without delving into the complexities of the issue. \\n\\nTo improve, the essay could:\\n1.  **Incorporate Specific Examples:** Instead of stating generalities, using real-world examples or case studies (e.g., mentioning specific countries, scandals, or anti-corruption movements) would make the arguments more concrete and impactful.\\n2.  **Use Evidence and Data:** The claims are not substantiated with any data, statistics, or citations from reports (e.g., from organizations like the World Bank or Transparency International). This would add significant weight and credibility to the analysis.\\n3.  **Explore Nuance:** The analysis is quite black-and-white. A deeper analysis would explore the nuances, such as the challenges in implementing anti-corruption measures or the complex relationship between culture and corruption.\\n\\nOverall, it's a good introductory piece but lacks the critical depth and evidence-based argumentation required for a more advanced analytical essay.\"],\n",
       " 'score': [9, 6, 6],\n",
       " 'final_score': 7.0,\n",
       " 'Summarized_feedback': \"Of course. Here is a summary of the feedback provided:\\n\\nThe feedback is consistent in its praise for the essay's **excellent structure, clarity, and logical organization**. All reviewers agree that the arguments are easy to follow and the essay is well-structured, making it a strong foundational piece.\\n\\nHowever, the feedback identifies two main areas for improvement:\\n\\n1.  **Lack of Analytical Depth:** The essay is criticized for being too general and descriptive. It stays at a surface level without delving into the complexities of the topic. To improve, it should:\\n    *   Incorporate specific real-world examples and case studies.\\n    *   Use data, statistics, and citations from credible sources to support claims.\\n    *   Explore the nuances of the issue instead of presenting a black-and-white analysis.\\n\\n2.  **Moderate Language Use:** While the language is clear and functional, it lacks sophistication. To elevate the writing, the essay should:\\n    *   Use a richer, more formal vocabulary.\\n    *   Vary sentence structures to be more complex and less repetitive.\\n\\nIn summary, the essay is a well-organized and clear introduction to the topic, but it needs to be developed with deeper, evidence-based analysis and more sophisticated language to become a more advanced and impactful piece.\"}"
      ]
     },
     "execution_count": 133,
     "metadata": {},
     "output_type": "execute_result"
    }
   ],
   "source": [
    "init_state = {\n",
    "    'essay': essay,\n",
    "    'feedback': [],\n",
    "    'score': [],\n",
    "    'final_score': 0,\n",
    "    'Summarized_feedback': \"\"\n",
    "}\n",
    "\n",
    "final_state = workflow.invoke(init_state)\n",
    "final_state"
   ]
  },
  {
   "cell_type": "code",
   "execution_count": null,
   "id": "709ef503",
   "metadata": {},
   "outputs": [],
   "source": []
  }
 ],
 "metadata": {
  "kernelspec": {
   "display_name": ".venv (3.12.9)",
   "language": "python",
   "name": "python3"
  },
  "language_info": {
   "codemirror_mode": {
    "name": "ipython",
    "version": 3
   },
   "file_extension": ".py",
   "mimetype": "text/x-python",
   "name": "python",
   "nbconvert_exporter": "python",
   "pygments_lexer": "ipython3",
   "version": "3.12.9"
  }
 },
 "nbformat": 4,
 "nbformat_minor": 5
}
